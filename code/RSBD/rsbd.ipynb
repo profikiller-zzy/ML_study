{
 "cells": [
  {
   "cell_type": "code",
   "execution_count": 136,
   "id": "initial_id",
   "metadata": {
    "collapsed": true,
    "ExecuteTime": {
     "end_time": "2024-07-19T07:29:42.425718Z",
     "start_time": "2024-07-19T07:29:42.412444Z"
    }
   },
   "outputs": [],
   "source": [
    "import random\n",
    "import numpy as np\n",
    "import pandas as pd\n",
    "from collections import defaultdict\n",
    "from sklearn.metrics import roc_auc_score\n",
    "import csv"
   ]
  },
  {
   "cell_type": "markdown",
   "source": [
    "训练集（training.txt）包含了用于模型训练/计算的数据，内含 942 个用户，1412 个商品项目，44,234 条点击信息. 文件内每一行包含三个字段，分别为：`user_id`, `item_id`, `click`。先将数据读取出来："
   ],
   "metadata": {
    "collapsed": false
   },
   "id": "c33b5a0ac1de9bc"
  },
  {
   "cell_type": "code",
   "outputs": [
    {
     "data": {
      "text/plain": "   user_id  item_id  click\n0      298      474      1\n1      253      465      1\n2      286     1014      1\n3      200      222      1\n4      122      387      1",
      "text/html": "<div>\n<style scoped>\n    .dataframe tbody tr th:only-of-type {\n        vertical-align: middle;\n    }\n\n    .dataframe tbody tr th {\n        vertical-align: top;\n    }\n\n    .dataframe thead th {\n        text-align: right;\n    }\n</style>\n<table border=\"1\" class=\"dataframe\">\n  <thead>\n    <tr style=\"text-align: right;\">\n      <th></th>\n      <th>user_id</th>\n      <th>item_id</th>\n      <th>click</th>\n    </tr>\n  </thead>\n  <tbody>\n    <tr>\n      <th>0</th>\n      <td>298</td>\n      <td>474</td>\n      <td>1</td>\n    </tr>\n    <tr>\n      <th>1</th>\n      <td>253</td>\n      <td>465</td>\n      <td>1</td>\n    </tr>\n    <tr>\n      <th>2</th>\n      <td>286</td>\n      <td>1014</td>\n      <td>1</td>\n    </tr>\n    <tr>\n      <th>3</th>\n      <td>200</td>\n      <td>222</td>\n      <td>1</td>\n    </tr>\n    <tr>\n      <th>4</th>\n      <td>122</td>\n      <td>387</td>\n      <td>1</td>\n    </tr>\n  </tbody>\n</table>\n</div>"
     },
     "execution_count": 137,
     "metadata": {},
     "output_type": "execute_result"
    }
   ],
   "source": [
    "path = 'RSBD_Project_2024/training.txt'\n",
    "data = pd.read_csv(path, sep=' ', header=None, names=['user_id', 'item_id', 'click'])\n",
    "data.head()"
   ],
   "metadata": {
    "collapsed": false,
    "ExecuteTime": {
     "end_time": "2024-07-19T07:29:42.518905Z",
     "start_time": "2024-07-19T07:29:42.488712Z"
    }
   },
   "id": "249b10f6111e9c05",
   "execution_count": 137
  },
  {
   "cell_type": "markdown",
   "source": [
    "划分训练集和测试集"
   ],
   "metadata": {
    "collapsed": false
   },
   "id": "da124f934eff27e0"
  },
  {
   "cell_type": "code",
   "outputs": [
    {
     "data": {
      "text/plain": "       user_id  item_id  click\n29066      692      300      1\n30686      711      202      1\n30902      901      144      1\n16338      338      427      1\n38805      599      846      1",
      "text/html": "<div>\n<style scoped>\n    .dataframe tbody tr th:only-of-type {\n        vertical-align: middle;\n    }\n\n    .dataframe tbody tr th {\n        vertical-align: top;\n    }\n\n    .dataframe thead th {\n        text-align: right;\n    }\n</style>\n<table border=\"1\" class=\"dataframe\">\n  <thead>\n    <tr style=\"text-align: right;\">\n      <th></th>\n      <th>user_id</th>\n      <th>item_id</th>\n      <th>click</th>\n    </tr>\n  </thead>\n  <tbody>\n    <tr>\n      <th>29066</th>\n      <td>692</td>\n      <td>300</td>\n      <td>1</td>\n    </tr>\n    <tr>\n      <th>30686</th>\n      <td>711</td>\n      <td>202</td>\n      <td>1</td>\n    </tr>\n    <tr>\n      <th>30902</th>\n      <td>901</td>\n      <td>144</td>\n      <td>1</td>\n    </tr>\n    <tr>\n      <th>16338</th>\n      <td>338</td>\n      <td>427</td>\n      <td>1</td>\n    </tr>\n    <tr>\n      <th>38805</th>\n      <td>599</td>\n      <td>846</td>\n      <td>1</td>\n    </tr>\n  </tbody>\n</table>\n</div>"
     },
     "execution_count": 138,
     "metadata": {},
     "output_type": "execute_result"
    }
   ],
   "source": [
    "from sklearn.model_selection import train_test_split\n",
    "Data_train, Data_test = train_test_split(data, train_size=0.8, random_state=None)\n",
    "Data_train.head()"
   ],
   "metadata": {
    "collapsed": false,
    "ExecuteTime": {
     "end_time": "2024-07-19T07:29:42.534538Z",
     "start_time": "2024-07-19T07:29:42.520427Z"
    }
   },
   "id": "30df55f35c04ef8d",
   "execution_count": 138
  },
  {
   "cell_type": "markdown",
   "source": [],
   "metadata": {
    "collapsed": false
   },
   "id": "e9055a46d75914a0"
  },
  {
   "cell_type": "code",
   "outputs": [],
   "source": [
    "# 输入用户和物品的交互信息，输出用户的交互字典(key是user_id，value是这个用户交互过的item_id)\n",
    "def get_user_rating_dict(data_train):\n",
    "    user_rating_dict = defaultdict()\n",
    "    for index, row in data_train.iterrows():\n",
    "        u_id = row['user_id']\n",
    "        i_id = row['item_id']\n",
    "    \n",
    "        # 如果 user_id 不在字典中，则将其添加进去并初始化一个空列表\n",
    "        if u_id not in user_rating_dict:\n",
    "            user_rating_dict[u_id] = []\n",
    "        \n",
    "        # 将当前行的 item_id 添加到对应 user_id 的列表中\n",
    "        user_rating_dict[u_id].append(i_id)\n",
    "        \n",
    "    return user_rating_dict"
   ],
   "metadata": {
    "collapsed": false,
    "ExecuteTime": {
     "end_time": "2024-07-19T07:29:42.550271Z",
     "start_time": "2024-07-19T07:29:42.535551Z"
    }
   },
   "id": "7abc30db94380e64",
   "execution_count": 139
  },
  {
   "cell_type": "markdown",
   "source": [
    "定义一些常量"
   ],
   "metadata": {
    "collapsed": false
   },
   "id": "c333de1a4aef811a"
  },
  {
   "cell_type": "code",
   "outputs": [],
   "source": [
    "Learning_rate = 0.01    # 学习率\n",
    "Lambda_reg = 0.01       # 正则化参数\n",
    "Iterations = 10000      # 迭代次数\n",
    "\n",
    "num_users = 942         # 用户数\n",
    "num_items = 1412        # 物品数\n",
    "vector_dimension = 12   # 向量长度\n",
    "\n",
    "# 初始化用户、物品和物品偏置项的向量\n",
    "User_factors = np.random.rand(num_users, vector_dimension) * 0.01\n",
    "Item_factors = np.random.rand(num_items, vector_dimension) * 0.01\n",
    "Bias_factors = np.random.rand(num_items) * 0.01"
   ],
   "metadata": {
    "collapsed": false,
    "ExecuteTime": {
     "end_time": "2024-07-19T07:29:42.565643Z",
     "start_time": "2024-07-19T07:29:42.552491Z"
    }
   },
   "id": "346e69f3e12c74b8",
   "execution_count": 140
  },
  {
   "cell_type": "code",
   "outputs": [],
   "source": [
    "# 将用户和物品的id抽离出来\n",
    "User_ids = data.loc[:, 'user_id'].unique().tolist()\n",
    "Item_ids = data.loc[:, 'item_id'].unique().tolist()\n",
    "\n",
    "# 为了知道每一行向量代表的是哪一个user或item，添加一个从 id 映射到 index 的 map    \n",
    "User_id_map = {user_id : index for index, user_id in enumerate(User_ids)}\n",
    "Item_id_map = {item_id : index for index, item_id in enumerate(Item_ids)}\n",
    "\n",
    "# 训练数据中出现的 user_id\n",
    "User_ids_train = Data_train.loc[:, 'user_id'].unique().tolist()\n",
    "\n",
    "# 初始化用户交互矩阵，其中行代表user_id对应的index，列代表item_id对应的index，如果交互过则值为1，否则为0\n",
    "User_rating_metrix = np.zeros(shape=(num_users, num_items))\n",
    "User_rating_metrix_test = np.zeros(shape=(num_users, num_items))\n",
    "\n",
    "# 填充训练集矩阵\n",
    "for index in range(Data_train.shape[0]):\n",
    "    user_index = User_id_map[Data_train.iloc[index]['user_id']]\n",
    "    item_index = Item_id_map[Data_train.iloc[index]['item_id']]\n",
    "    User_rating_metrix[user_index, item_index] = 1\n",
    "\n",
    "for index in range(Data_test.shape[0]):\n",
    "    user_index = User_id_map[Data_train.iloc[index]['user_id']]\n",
    "    item_index = Item_id_map[Data_train.iloc[index]['item_id']]\n",
    "    User_rating_metrix_test[user_index, item_index] = 1\n",
    "\n",
    "# 获取用户的交互字典(key是user_id，value是这个用户交互过的item_id，value是item_id的列表)\n",
    "User_rating_dict = get_user_rating_dict(Data_train)\n",
    "User_rating_dict_test = get_user_rating_dict(Data_test)\n",
    "User_rating_dict_total = get_user_rating_dict(data)"
   ],
   "metadata": {
    "collapsed": false,
    "ExecuteTime": {
     "end_time": "2024-07-19T07:29:45.888841Z",
     "start_time": "2024-07-19T07:29:42.566657Z"
    }
   },
   "id": "24b685e31ff8cd6a",
   "execution_count": 141
  },
  {
   "cell_type": "markdown",
   "source": [
    "BPR的目标是使得用户u对物品i的评分$u_i$"
   ],
   "metadata": {
    "collapsed": false
   },
   "id": "2744d4e9ad3f96f3"
  },
  {
   "cell_type": "code",
   "outputs": [],
   "source": [
    "# 训练BPR模型参数，采用随机梯度下降训练方法\n",
    "# 输入参数分别为（用户交互字典、用户矩阵、物品矩阵、物品评分偏移矩阵、学习率、正则化参数lambda、迭代次数）\n",
    "def train_bpr(user_rating_dict, user_factors, item_factors, bias_factors, learning_rate, lambda_reg, iterations):\n",
    "    for ite1 in range(iterations):\n",
    "        for ite2 in range(len(User_ids)): # 每次训练随机抽取用户 num_users 次\n",
    "            # 随机获取一个用户\n",
    "            u = User_ids[random.randint(0, num_users-1)]\n",
    "            \n",
    "            # 如果这个用户没有在测试集中，则直接跳过（这种情况一般不会发生）\n",
    "            if u not in User_ids_train:\n",
    "                continue\n",
    "            \n",
    "            # 随机选取一个用户交互过的物品i，i是被u点击过的物品\n",
    "            i = random.sample(user_rating_dict[u], 1)[0]\n",
    "            # 随机选取一个用户没有交互过的物品j\n",
    "            j = Item_ids[random.randint(0, num_items-1)]\n",
    "            while j in user_rating_dict[u]:\n",
    "                j = Item_ids[random.randint(0, num_items-1)]\n",
    "                \n",
    "            # 上面的u, i, j都是用户或者物品的id，我们需要构造的三元组是它们对应的索引\n",
    "            u_index = User_id_map[u]\n",
    "            i_index = Item_id_map[i]\n",
    "            j_index = Item_id_map[j]\n",
    "            \n",
    "            # 用户u对物品i, j的评分\n",
    "            x_ui = np.dot(user_factors[u_index], item_factors[i_index]) + bias_factors[i_index]\n",
    "            x_uj = np.dot(user_factors[u_index], item_factors[j_index]) + bias_factors[j_index]\n",
    "            # 用户对物品i, j的评分差\n",
    "            x_uij = x_ui - x_uj\n",
    "            \n",
    "            # 下面的梯度基于论文中的推理\n",
    "            loss_func = -1.0 / (1 + np.exp(x_uij))\n",
    "            \n",
    "            # 参数梯度\n",
    "            grad_u = loss_func * (item_factors[i_index] - item_factors[j_index]) + lambda_reg * user_factors[u_index]\n",
    "            grad_i = loss_func * user_factors[u_index] + lambda_reg * item_factors[i_index]\n",
    "            grad_j = loss_func * (-user_factors[u_index]) + lambda_reg * item_factors[j_index]\n",
    "            grad_bias_i = loss_func + lambda_reg * bias_factors[i_index]\n",
    "            grad_bias_j = -loss_func + lambda_reg * bias_factors[j_index]\n",
    "                \n",
    "            # 同时更新参数\n",
    "            user_factors[u_index] -= learning_rate * grad_u\n",
    "            item_factors[i_index] -= learning_rate * grad_i\n",
    "            item_factors[j_index] -= learning_rate * grad_j\n",
    "            bias_factors[i_index] -= learning_rate * grad_bias_i\n",
    "            bias_factors[j_index] -= learning_rate * grad_bias_j\n",
    "        \n",
    "    return user_factors, item_factors, bias_factors"
   ],
   "metadata": {
    "collapsed": false,
    "ExecuteTime": {
     "end_time": "2024-07-19T07:29:45.920207Z",
     "start_time": "2024-07-19T07:29:45.905067Z"
    }
   },
   "id": "24cf23974ea983f7",
   "execution_count": 143
  },
  {
   "cell_type": "markdown",
   "source": [
    "得到预测矩阵，预测评分矩阵的行列坐标分别代表用户和物品的索引而非id，最后输出结果时需要做一个简单的转换"
   ],
   "metadata": {
    "collapsed": false
   },
   "id": "e0137ccc73ae3d1d"
  },
  {
   "cell_type": "code",
   "outputs": [],
   "source": [
    "# 获取用户对物品的评分\n",
    "def get_predictions(user_factors, item_factors, bias_factors):\n",
    "    predictions = np.dot(user_factors, item_factors.T) + bias_factors\n",
    "    return predictions"
   ],
   "metadata": {
    "collapsed": false,
    "ExecuteTime": {
     "end_time": "2024-07-19T07:29:45.935620Z",
     "start_time": "2024-07-19T07:29:45.921298Z"
    }
   },
   "id": "21efdb3169139eca",
   "execution_count": 144
  },
  {
   "cell_type": "markdown",
   "source": [
    "过滤掉训练集中已经存在的正反馈项目，使它们在预测结果中不会被推荐"
   ],
   "metadata": {
    "collapsed": false
   },
   "id": "ec7f7dc9e9a01be8"
  },
  {
   "cell_type": "code",
   "outputs": [],
   "source": [
    "def filter_known_interactions(user_rating_dict, predictions):\n",
    "    # 确保推荐不能是训练集中的正项\n",
    "    for uid in user_rating_dict.keys():\n",
    "        for jid in user_rating_dict[uid]:\n",
    "            predictions[User_id_map(uid) * num_items + Item_id_map(jid)] = 0\n",
    "    return predictions"
   ],
   "metadata": {
    "collapsed": false,
    "ExecuteTime": {
     "end_time": "2024-07-19T07:29:45.951680Z",
     "start_time": "2024-07-19T07:29:45.936634Z"
    }
   },
   "id": "362c5bd0afee7d17",
   "execution_count": 145
  },
  {
   "cell_type": "markdown",
   "source": [
    "下面开始训练模型"
   ],
   "metadata": {
    "collapsed": false
   },
   "id": "6ff6e22d24bfcfeb"
  },
  {
   "cell_type": "code",
   "outputs": [],
   "source": [
    "User_factors, Item_factors, Bias_factors = train_bpr(User_rating_dict, User_factors, Item_factors, Bias_factors, Learning_rate, Lambda_reg, Iterations)"
   ],
   "metadata": {
    "collapsed": false,
    "ExecuteTime": {
     "end_time": "2024-07-19T07:33:35.472711Z",
     "start_time": "2024-07-19T07:29:45.953779Z"
    }
   },
   "id": "60a0fce15f5a67f9",
   "execution_count": 146
  },
  {
   "cell_type": "markdown",
   "source": [
    "将模型参数写入文件中，这样下次就不用再训练模型了，可以直接将参数读取出来直接做预测"
   ],
   "metadata": {
    "collapsed": false
   },
   "id": "c9d9af519a751b45"
  },
  {
   "cell_type": "code",
   "outputs": [],
   "source": [
    "# 写入 CSV 文件\n",
    "with open('parameters\\\\User_factors.csv', mode='w', newline='') as file:\n",
    "    writer = csv.writer(file)\n",
    "    writer.writerows(User_factors)\n",
    "    \n",
    "# 写入 CSV 文件\n",
    "with open('parameters\\\\Item_factors.csv', mode='w', newline='') as file:\n",
    "    writer = csv.writer(file)\n",
    "    writer.writerows(Item_factors)\n",
    "\n",
    "# 将一维数组转换为二维列表，每行一个元素\n",
    "Bias_factors_list = Bias_factors.reshape(-1, 1)\n",
    "\n",
    "# 写入 CSV 文件\n",
    "with open('parameters\\\\Bias_factors.csv', mode='w', newline='') as file:\n",
    "    writer = csv.writer(file)\n",
    "    writer.writerows(Bias_factors_list)"
   ],
   "metadata": {
    "collapsed": false,
    "ExecuteTime": {
     "end_time": "2024-07-19T07:33:35.520259Z",
     "start_time": "2024-07-19T07:33:35.473682Z"
    }
   },
   "id": "2c41d034cfb07599",
   "execution_count": 147
  },
  {
   "cell_type": "markdown",
   "source": [
    "计算 AUC（曲线下面积）得分，测试模型的预测结果"
   ],
   "metadata": {
    "collapsed": false
   },
   "id": "8f2363a06d6bd615"
  },
  {
   "cell_type": "code",
   "outputs": [
    {
     "data": {
      "text/plain": "0.9104754536499771"
     },
     "execution_count": 148,
     "metadata": {},
     "output_type": "execute_result"
    }
   ],
   "source": [
    "# 进行预测，得到的`Prediction_metrix`表示每个用户对每个项目的预测评分\n",
    "Prediction_metrix = get_predictions(User_factors, Item_factors, Bias_factors)\n",
    "\n",
    "# 将矩阵平展，便于后续评估\n",
    "Predictions = Prediction_metrix.reshape(-1)\n",
    "Tests = np.zeros(num_items * num_users)\n",
    "\n",
    "# 填充测试标签\n",
    "for u in range(num_users):\n",
    "    for i in range(num_items): # 这里的i是索引，从0开始\n",
    "        if int(User_rating_metrix_test[u][i]) == 1:\n",
    "            Tests[u * num_items + i] = 1\n",
    "        else:\n",
    "            Tests[u * num_items + i] = 0\n",
    "            \n",
    "# 计算 AUC 得分\n",
    "auc_score = roc_auc_score(Tests, Predictions)\n",
    "auc_score"
   ],
   "metadata": {
    "collapsed": false,
    "ExecuteTime": {
     "end_time": "2024-07-19T07:33:36.455345Z",
     "start_time": "2024-07-19T07:33:35.521553Z"
    }
   },
   "id": "2051a78fbf65e133",
   "execution_count": 148
  },
  {
   "cell_type": "markdown",
   "source": [
    "计算模型的precision，测试模型的预测结果"
   ],
   "metadata": {
    "collapsed": false
   },
   "id": "5c1b76a0bfc3fd37"
  },
  {
   "cell_type": "code",
   "outputs": [
    {
     "name": "stdout",
     "output_type": "stream",
     "text": [
      "0.12902869757174393\n"
     ]
    }
   ],
   "source": [
    "def calculate_precision(k = 10):\n",
    "    relevant_recommended = 0\n",
    "    total = 0\n",
    "    \n",
    "    for u in User_ids:\n",
    "        # 如果用户不在测试集中，则跳过\n",
    "        if u not in User_rating_dict_test:\n",
    "            continue\n",
    "        \n",
    "        relevant_items = User_rating_dict_test[u]   # 用户实际交互过的物品(测试集)\n",
    "        u_index = User_id_map[u]\n",
    "        \n",
    "        # 计算用户对所有物品的评分\n",
    "        scores = np.dot(User_factors[u_index], Item_factors.T) + Bias_factors\n",
    "        \n",
    "        # 获取评分最高的 K 个物品\n",
    "        recommended_items_index = np.argsort(scores)[::-1]\n",
    "        recommended_items = []\n",
    "        \n",
    "        count = 0\n",
    "        \n",
    "        # 确保推荐的物品过滤掉训练集中用户交互过的物品\n",
    "        for i_index in recommended_items_index:\n",
    "            if Item_ids[i_index] not in User_rating_dict[u]:\n",
    "                recommended_items.append(Item_ids[i_index])\n",
    "                count = count + 1\n",
    "                if count == k:\n",
    "                    break\n",
    "        \n",
    "        # 计算推荐的物品和实际喜欢的物品之间的交集\n",
    "        relevant_recommended += len(set(relevant_items) & set(recommended_items))\n",
    "        total += k\n",
    "    \n",
    "    precision = relevant_recommended / total if total > 0 else 0\n",
    "    return precision\n",
    "\n",
    "Precision = calculate_precision()\n",
    "print(Precision)"
   ],
   "metadata": {
    "collapsed": false,
    "ExecuteTime": {
     "end_time": "2024-07-19T08:05:48.686762Z",
     "start_time": "2024-07-19T08:05:48.592062Z"
    }
   },
   "id": "de9cfb2befcb0dec",
   "execution_count": 171
  },
  {
   "cell_type": "markdown",
   "source": [
    "输入用户矩阵、物品矩阵和需要作推荐的`user_id`，为该用户推荐top10物品"
   ],
   "metadata": {
    "collapsed": false
   },
   "id": "d237de2cf5c5e3e2"
  },
  {
   "cell_type": "code",
   "outputs": [],
   "source": [
    "# 为用户推荐物品，去除掉用户已经交互过的物品\n",
    "def get_top_k_recommendations(user_factors, item_factors, bias_factors, user_id, user_rating_dict_total, k = 10):\n",
    "    u_index = User_id_map[user_id]\n",
    "    scores = np.dot(item_factors, user_factors[u_index]) + bias_factors # 使用内积计算出该用户对所有物品的评分，并加上物品的全局评分偏移\n",
    "    top_k_items_index = scores.argsort()[::-1]          # 对scores进行升序排序，得到升序的索引，随后将这个索引反转，相当于获取了scores降序排序的索引，\n",
    "                                                        # 取前10位作为该用户的tok_10推荐，即得到了该用户评分最高的10个`item_id`\n",
    "    \n",
    "    top_k_items = []\n",
    "    count = 0\n",
    "    for i in top_k_items_index:\n",
    "        if Item_ids[i] not in user_rating_dict_total[user_id]:\n",
    "            top_k_items.append(Item_ids[i])\n",
    "            count = count+1\n",
    "            if count == 10:\n",
    "                break\n",
    "    return top_k_items"
   ],
   "metadata": {
    "collapsed": false,
    "ExecuteTime": {
     "end_time": "2024-07-19T07:33:36.597231Z",
     "start_time": "2024-07-19T07:33:36.582462Z"
    }
   },
   "id": "7f9dc5b53e1441b2",
   "execution_count": 151
  },
  {
   "cell_type": "markdown",
   "source": [
    "为每个用户生成物品top10推荐"
   ],
   "metadata": {
    "collapsed": false
   },
   "id": "3d715adbc1bb51cf"
  },
  {
   "cell_type": "code",
   "outputs": [],
   "source": [
    "# 读取需要预测的`user_id`\n",
    "path = 'RSBD_Project_2024/test.txt'\n",
    "unpredicted_user_ids = pd.read_csv(path, header=None, names=['user_id'])\n",
    "\n",
    "# 使用矩阵存储推荐结果，其中第一列为`user_id`，剩余十列是`itemi_id`(其中1<=i<=10)\n",
    "top_10_recommendations = np.zeros((len(unpredicted_user_ids), 11))\n",
    "\n",
    "# 将第一列赋值为对应的`user_id`\n",
    "unpredicted_user_ids = unpredicted_user_ids.values.flatten()\n",
    "top_10_recommendations[:, 0] = unpredicted_user_ids\n",
    "top_10_recommendations = top_10_recommendations.astype(int)\n",
    "\n",
    "# 为每个用户推荐top10物品\n",
    "for idx, u in enumerate(unpredicted_user_ids):\n",
    "    recommendation = get_top_k_recommendations(User_factors, Item_factors, Bias_factors, u, User_rating_dict_total)\n",
    "    # print(recommendation)\n",
    "    top_10_recommendations[idx, 1:] = recommendation\n",
    "    for item_id in recommendation:\n",
    "        if item_id not in Item_ids:\n",
    "            print(\"false\")\n",
    "# top_10_recommendations[:10]\n",
    "\n",
    "# 将推荐结果存储在文件中\n",
    "file_path = '2024110681_result.txt'\n",
    "\n",
    "# 写入文件\n",
    "with open(file_path, 'w') as file:\n",
    "    for row in top_10_recommendations:\n",
    "        user_id = row[0]\n",
    "        item_ids_str = ','.join(map(str, row[1:]))  # 将推荐的物品 ID 转换为逗号分隔的字符串\n",
    "        file.write(f\"{user_id}: {item_ids_str}\\n\")"
   ],
   "metadata": {
    "collapsed": false,
    "ExecuteTime": {
     "end_time": "2024-07-19T07:33:36.738200Z",
     "start_time": "2024-07-19T07:33:36.599176Z"
    }
   },
   "id": "d27517966d8c123e",
   "execution_count": 152
  },
  {
   "cell_type": "code",
   "outputs": [
    {
     "data": {
      "text/plain": "array([[ 81, 181,  50, ..., 100, 405, 222],\n       [399,  56,  98, ..., 405,  28,  69],\n       [890, 183, 180, ...,  79, 182, 511],\n       ...,\n       [516, 258, 127, ..., 300, 100, 318],\n       [272, 174, 603, ..., 318, 182, 173],\n       [629, 100, 318, ...,  79,  28, 483]])"
     },
     "execution_count": 153,
     "metadata": {},
     "output_type": "execute_result"
    }
   ],
   "source": [
    "top_10_recommendations[:]"
   ],
   "metadata": {
    "collapsed": false,
    "ExecuteTime": {
     "end_time": "2024-07-19T07:33:36.753712Z",
     "start_time": "2024-07-19T07:33:36.739166Z"
    }
   },
   "id": "71f5a6ac5764d2a0",
   "execution_count": 153
  }
 ],
 "metadata": {
  "kernelspec": {
   "display_name": "Python 3",
   "language": "python",
   "name": "python3"
  },
  "language_info": {
   "codemirror_mode": {
    "name": "ipython",
    "version": 2
   },
   "file_extension": ".py",
   "mimetype": "text/x-python",
   "name": "python",
   "nbconvert_exporter": "python",
   "pygments_lexer": "ipython2",
   "version": "2.7.6"
  }
 },
 "nbformat": 4,
 "nbformat_minor": 5
}
